{
  "nbformat": 4,
  "nbformat_minor": 0,
  "metadata": {
    "colab": {
      "provenance": []
    },
    "kernelspec": {
      "name": "python3",
      "display_name": "Python 3"
    },
    "language_info": {
      "name": "python"
    }
  },
  "cells": [
    {
      "cell_type": "code",
      "source": [
        "\n",
        "2.'''.Write a Python function to find the maximum of three numbers Sample input:\n",
        "34,12,7 Sample output: 34  '''\n",
        "\n",
        "def maximum(a, b, c):\n",
        "\n",
        "    if (a >= b) and (a >= c):\n",
        "        largest = a\n",
        "\n",
        "    elif (b >= a) and (b >= c):\n",
        "        largest = b\n",
        "    else:\n",
        "        largest = c\n",
        "\n",
        "    return largest\n",
        "\n",
        "\n",
        "# Driven code\n",
        "a = 34\n",
        "b = 12\n",
        "c = 7\n",
        "print(maximum(a, b, c))\n"
      ],
      "metadata": {
        "id": "tcc7Zob8TG6C",
        "colab": {
          "base_uri": "https://localhost:8080/"
        },
        "outputId": "d05d43a0-3627-4d14-f115-119c053321ee"
      },
      "execution_count": 4,
      "outputs": [
        {
          "output_type": "stream",
          "name": "stdout",
          "text": [
            "34\n"
          ]
        }
      ]
    },
    {
      "cell_type": "code",
      "source": [
        "''' 3.Write a Python function called exponent(base,exp) that returns an integer\n",
        "value of base raises to the power of exp. Sample input: Enter the base: 2\n",
        "Enter the exponent: 3\n",
        "'''\n",
        "def power(base,exp):\n",
        "    if(exp==1):\n",
        "        return(base)\n",
        "    if(exp!=1):\n",
        "        return(base*power(base,exp-1))\n",
        "base=int(input(\"Enter base: \"))\n",
        "exp=int(input(\"Enter exponential value: \"))\n",
        "print(\"Result:\",power(base,exp))"
      ],
      "metadata": {
        "colab": {
          "base_uri": "https://localhost:8080/"
        },
        "id": "ajj-2VJXadSJ",
        "outputId": "54c19868-2fb2-45e3-b224-ca63bdfb906a"
      },
      "execution_count": 9,
      "outputs": [
        {
          "output_type": "stream",
          "name": "stdout",
          "text": [
            "Enter base: 2\n",
            "Enter exponential value: 3\n",
            "Result: 8\n"
          ]
        }
      ]
    },
    {
      "cell_type": "code",
      "source": [
        "'''1. Write a Python function to accept a string value from the user and display the\n",
        "count of each character in that string. Sample input: Enter a string value:\n",
        "assembly Sample output: a=1, s=2, e=1, m=1, b=1, l=1, y=1'''\n",
        "inputstring = input(\"Enter a string:\").casefold()\n",
        "\n",
        "tempstr = ''\n",
        "for char in inputstring:\n",
        "    if char not in tempstr:\n",
        "      print(char,',', inputstring.count(char))\n",
        "      tempstr = tempstr+char\n",
        "\n",
        ""
      ],
      "metadata": {
        "colab": {
          "base_uri": "https://localhost:8080/"
        },
        "id": "E4LyIU5hd8I5",
        "outputId": "579c0102-3af8-4e62-c508-a3bdedf91330"
      },
      "execution_count": 14,
      "outputs": [
        {
          "output_type": "stream",
          "name": "stdout",
          "text": [
            "Enter a string:3\n",
            "3 , 1\n"
          ]
        }
      ]
    },
    {
      "cell_type": "code",
      "source": [
        "'''4. Write a Python function that takes a positive integer and returns the sum of\n",
        "the cube of all the positive integers smaller than the specified number.\n",
        "Sample input: 4 Sample output: 36.'''\n",
        "\n",
        "def sumOfcubes(n) :\n",
        "  if n < 0:\n",
        "     return\n",
        "  sum = 0\n",
        "  for i in range(1, n + 1):\n",
        "       sum +=pow(i,3)\n",
        "  return sum\n",
        "\n",
        "  n = int(input('Enter n :'))\n",
        "  sum = sumofcubes(n)\n",
        "  print(f'sum : {sum}')\n",
        "\n",
        "\n"
      ],
      "metadata": {
        "id": "ccSJukvPi0Y6"
      },
      "execution_count": 44,
      "outputs": []
    },
    {
      "cell_type": "code",
      "source": [
        "\n",
        "def sumOfSeries(n):\n",
        "    sum = 0\n",
        "    for i in range(1, n + 1):\n",
        "        sum += i * i*i\n",
        "\n",
        "    return sum\n",
        "\n",
        "\n",
        "# Driver Function\n",
        "n = 5\n",
        "print(sumOfSeries(n))\n"
      ],
      "metadata": {
        "colab": {
          "base_uri": "https://localhost:8080/"
        },
        "id": "BCa1KTtCpEJV",
        "outputId": "ac5bc586-e134-41ba-d352-0051633a46f0"
      },
      "execution_count": 47,
      "outputs": [
        {
          "output_type": "stream",
          "name": "stdout",
          "text": [
            "225\n"
          ]
        }
      ]
    },
    {
      "cell_type": "code",
      "source": [
        "'''5. Write a Python program which iterates from 1 to 10. For multiples of 2, print\n",
        "“Fizz” instead of the number and for the multiples of 5, print “Buzz”. For\n",
        "numbers which are multiples of both 2 and 5, print “FizzBuzz”. Sample input:\n",
        "numbers from 1 to 10 Sample output: 1 Fizz 3 Fizz Buzz Fizz 7 Fizz 9\n",
        "FizzBuzz '''\n",
        "for i in range(1,10):\n",
        "\n",
        "  if(i%2==0 and i%5==0):\n",
        "    print(\"FizzBuzz\")\n",
        "  elif(i%2 == 0):\n",
        "    print(\"Fizz\")\n",
        "\n",
        "  elif(i%5 == 0):\n",
        "    print(\"Buzz\")\n",
        "\n",
        "  else:\n",
        "    print(i)\n",
        "\n"
      ],
      "metadata": {
        "colab": {
          "base_uri": "https://localhost:8080/"
        },
        "id": "QMKXmRyXpZ6O",
        "outputId": "eef8b964-d1f9-4923-a85c-96179ccad3dd"
      },
      "execution_count": 51,
      "outputs": [
        {
          "output_type": "stream",
          "name": "stdout",
          "text": [
            "1\n",
            "Fizz\n",
            "3\n",
            "Fizz\n",
            "Buzz\n",
            "Fizz\n",
            "7\n",
            "Fizz\n",
            "9\n"
          ]
        }
      ]
    },
    {
      "cell_type": "code",
      "source": [
        "'''6.Write a Python function to find the most frequent item in a list of numbers.\n",
        "Sample input: 2, 3, 4, 2, 5, 2 Sample output: 2'''\n",
        "\n",
        "def most_frequent(List):\n",
        "    counter = 0\n",
        "    num = List[0]\n",
        "\n",
        "    for i in List:\n",
        "        curr_frequency = List.count(i)\n",
        "        if(curr_frequency> counter):\n",
        "            counter = curr_frequency\n",
        "            num = i\n",
        "\n",
        "    return num\n",
        "\n",
        "List = [2, 1, 2, 2, 1, 3]\n",
        "print(most_frequent(List))"
      ],
      "metadata": {
        "colab": {
          "base_uri": "https://localhost:8080/"
        },
        "id": "v4YhBkbksIUQ",
        "outputId": "df50b9ba-6c13-4854-bfb4-b86f47029d78"
      },
      "execution_count": 53,
      "outputs": [
        {
          "output_type": "stream",
          "name": "stdout",
          "text": [
            "2\n"
          ]
        }
      ]
    },
    {
      "cell_type": "code",
      "source": [
        "'''7. Write a Python function to find the sum of squares of the numbers in a list.\n",
        "Sample input: 2,1,3,1 Sample output'''\n",
        "\n",
        "test_list = [2,1,3,1]\n",
        "\n",
        "print(\"The original list is : \" + str(test_list))\n",
        "\n",
        "\n",
        "\n",
        "res = 0\n",
        "for i in test_list:\n",
        "    from math import pow\n",
        "    res += pow(i, 2)\n",
        "res = int(res)\n",
        "\n",
        "print(\"The sum of squares of list is : \" + str(res))\n"
      ],
      "metadata": {
        "colab": {
          "base_uri": "https://localhost:8080/"
        },
        "id": "XQRYOlPKs4Sf",
        "outputId": "4c0c4974-7a24-4e69-fc36-afc97d9c1bb4"
      },
      "execution_count": 71,
      "outputs": [
        {
          "output_type": "stream",
          "name": "stdout",
          "text": [
            "The original list is : [2, 1, 3, 1]\n",
            "The sum of squares of list is : 15\n"
          ]
        }
      ]
    },
    {
      "cell_type": "code",
      "source": [
        "'''8. Write a Python program using for loop that will iterate from 1 to 15. For each\n",
        "iteration, check if the current number is odd or even, and display the message\n",
        "to the screen as odd or even. Sample input: 1….15 Sample output: 1-odd 2-\n",
        "even …. 15-odd '''\n",
        "\n",
        "\n",
        "start, end = 4, 19\n",
        "\n",
        "for num in range(start, end + 1):\n",
        "\n",
        "    if num % 2 != 0:\n",
        "        print(num, end = \" \")\n"
      ],
      "metadata": {
        "colab": {
          "base_uri": "https://localhost:8080/"
        },
        "id": "XOtJ-4xJvg8D",
        "outputId": "44797ccc-d0b4-4007-e04b-3402b0aa356f"
      },
      "execution_count": 72,
      "outputs": [
        {
          "output_type": "stream",
          "name": "stdout",
          "text": [
            "5 7 9 11 13 15 17 19 "
          ]
        }
      ]
    },
    {
      "cell_type": "code",
      "source": [
        "'''9. Write a Python function to convert temperatures to and from Celsius\n",
        "Fahrenheit. [Formula: c/5=f-32/9 where c=temperature in Celsius and f=\n",
        "temperature in Fahrenheit.] Sample input: Temperature in Fahrenheit =41\n",
        "Sample output: Temperature in Celsius =5 '''\n",
        "\n",
        "def celsius_to_fahrenheit(celsius):\n",
        "    fahrenheit = (celsius * 9/5) + 32\n",
        "    return fahrenheit\n",
        "\n",
        "celsius = float(input(\"Enter temperature in Celsius: \"))\n",
        "\n",
        "fahrenheit = celsius_to_fahrenheit(celsius)\n",
        "print(\"Temperature in Fahrenheit:\", fahrenheit)\n"
      ],
      "metadata": {
        "colab": {
          "base_uri": "https://localhost:8080/"
        },
        "id": "gaTQZK2bw4K4",
        "outputId": "4eab9332-e6b4-4e44-87fa-1f530c7316ae"
      },
      "execution_count": 73,
      "outputs": [
        {
          "output_type": "stream",
          "name": "stdout",
          "text": [
            "Enter temperature in Celsius: 2\n",
            "Temperature in Fahrenheit: 35.6\n"
          ]
        }
      ]
    }
  ]
}